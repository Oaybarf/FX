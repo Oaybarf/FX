{
  "nbformat": 4,
  "nbformat_minor": 0,
  "metadata": {
    "colab": {
      "provenance": [],
      "authorship_tag": "ABX9TyNfjnnxBdBO9tNwnlkOKkZ8",
      "include_colab_link": true
    },
    "kernelspec": {
      "name": "python3",
      "display_name": "Python 3"
    },
    "language_info": {
      "name": "python"
    }
  },
  "cells": [
    {
      "cell_type": "markdown",
      "metadata": {
        "id": "view-in-github",
        "colab_type": "text"
      },
      "source": [
        "<a href=\"https://colab.research.google.com/github/Oaybarf/FX/blob/main/Prueba_Github.ipynb\" target=\"_parent\"><img src=\"https://colab.research.google.com/assets/colab-badge.svg\" alt=\"Open In Colab\"/></a>"
      ]
    },
    {
      "cell_type": "code",
      "execution_count": 1,
      "metadata": {
        "colab": {
          "base_uri": "https://localhost:8080/"
        },
        "id": "3wFeo1oLrjVg",
        "outputId": "595f5483-3e3b-4750-8820-bf7aab8d7e24"
      },
      "outputs": [
        {
          "output_type": "stream",
          "name": "stdout",
          "text": [
            "        Fecha      Hora\n",
            "0  2024-10-01  19:44:38\n"
          ]
        }
      ],
      "source": [
        "import pandas as pd\n",
        "from datetime import datetime\n",
        "import pytz\n",
        "\n",
        "# Definir la zona horaria de Perú\n",
        "timezone = pytz.timezone(\"America/Lima\")\n",
        "\n",
        "# Obtener la fecha y hora actual en Perú\n",
        "current_time_peru = datetime.now(timezone)\n",
        "\n",
        "# Crear un DataFrame con la fecha y hora actual\n",
        "data = {\n",
        "    \"Fecha\": [current_time_peru.strftime(\"%Y-%m-%d\")],\n",
        "    \"Hora\": [current_time_peru.strftime(\"%H:%M:%S\")]\n",
        "}\n",
        "\n",
        "df = pd.DataFrame(data)\n",
        "print(df)"
      ]
    }
  ]
}