{
 "cells": [
  {
   "cell_type": "markdown",
   "metadata": {
    "colab_type": "text",
    "id": "view-in-github"
   },
   "source": [
    "<a href=\"https://colab.research.google.com/github/Oaybarf/FX/blob/main/Prueba_Github.ipynb\" target=\"_parent\"><img src=\"https://colab.research.google.com/assets/colab-badge.svg\" alt=\"Open In Colab\"/></a>"
   ]
  },
  {
   "cell_type": "code",
   "execution_count": 1,
   "metadata": {
    "colab": {
     "base_uri": "https://localhost:8080/"
    },
    "execution": {
     "iopub.execute_input": "2024-10-02T16:09:36.268511Z",
     "iopub.status.busy": "2024-10-02T16:09:36.268304Z",
     "iopub.status.idle": "2024-10-02T16:09:36.605529Z",
     "shell.execute_reply": "2024-10-02T16:09:36.604820Z"
    },
    "id": "3wFeo1oLrjVg",
    "outputId": "595f5483-3e3b-4750-8820-bf7aab8d7e24"
   },
   "outputs": [
    {
     "name": "stdout",
     "output_type": "stream",
     "text": [
      "        Fecha      Hora\n",
      "0  2024-10-02  11:09:36\n"
     ]
    }
   ],
   "source": [
    "import pandas as pd\n",
    "from datetime import datetime\n",
    "import pytz\n",
    "\n",
    "# Definir la zona horaria de Perú\n",
    "timezone = pytz.timezone(\"America/Lima\")\n",
    "\n",
    "# Obtener la fecha y hora actual en Perú\n",
    "current_time_peru = datetime.now(timezone)\n",
    "\n",
    "# Crear un DataFrame con la fecha y hora actual\n",
    "data = {\n",
    "    \"Fecha\": [current_time_peru.strftime(\"%Y-%m-%d\")],\n",
    "    \"Hora\": [current_time_peru.strftime(\"%H:%M:%S\")]\n",
    "}\n",
    "\n",
    "df = pd.DataFrame(data)\n",
    "print(df)"
   ]
  }
 ],
 "metadata": {
  "colab": {
   "authorship_tag": "ABX9TyNfjnnxBdBO9tNwnlkOKkZ8",
   "include_colab_link": true,
   "provenance": []
  },
  "kernelspec": {
   "display_name": "Python 3",
   "name": "python3"
  },
  "language_info": {
   "codemirror_mode": {
    "name": "ipython",
    "version": 3
   },
   "file_extension": ".py",
   "mimetype": "text/x-python",
   "name": "python",
   "nbconvert_exporter": "python",
   "pygments_lexer": "ipython3",
   "version": "3.9.20"
  }
 },
 "nbformat": 4,
 "nbformat_minor": 0
}
